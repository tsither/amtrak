{
 "cells": [
  {
   "cell_type": "code",
   "execution_count": 1,
   "metadata": {},
   "outputs": [],
   "source": [
    "def process_track_options(input_file, output_file):\n",
    "    # Keywords to replace with 'wait'\n",
    "    keywords = ['move_forward', 'move_right', 'move_left']\n",
    "\n",
    "    with open(input_file, 'r') as infile, open(output_file, 'w') as outfile:\n",
    "        for line in infile:\n",
    "            # Write the original line to the output file\n",
    "            outfile.write(line)\n",
    "            \n",
    "            # Check if the line contains any of the keywords\n",
    "            for keyword in keywords:\n",
    "                if keyword in line:\n",
    "                    # Replace the keyword with 'wait' and write the modified line\n",
    "                    modified_line = line.replace(keyword, 'wait', 1)\n",
    "                    outfile.write(modified_line)\n",
    "                    break  # Only replace one keyword per line\n",
    "\n",
    "if __name__ == \"__main__\":\n",
    "    input_file = 'track_option_WAIT_ALL.lp'   # Replace with your input file path\n",
    "    output_file = 'output.txt' # Replace with your output file path\n",
    "    process_track_options(input_file, output_file)\n"
   ]
  },
  {
   "cell_type": "code",
   "execution_count": null,
   "metadata": {},
   "outputs": [],
   "source": []
  }
 ],
 "metadata": {
  "kernelspec": {
   "display_name": "flatland",
   "language": "python",
   "name": "python3"
  },
  "language_info": {
   "codemirror_mode": {
    "name": "ipython",
    "version": 3
   },
   "file_extension": ".py",
   "mimetype": "text/x-python",
   "name": "python",
   "nbconvert_exporter": "python",
   "pygments_lexer": "ipython3",
   "version": "3.7.12"
  }
 },
 "nbformat": 4,
 "nbformat_minor": 2
}
